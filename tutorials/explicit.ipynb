{
 "cells": [
  {
   "cell_type": "markdown",
   "metadata": {},
   "source": [
    "# DaCe with Explicit Dataflow in Python\n",
    "\n",
    "In this tutorial, we will use the explicit dataflow specification in Python to construct DaCe programs."
   ]
  },
  {
   "cell_type": "code",
   "execution_count": 1,
   "metadata": {},
   "outputs": [
    {
     "data": {
      "text/html": [
       "<script src=\"https://spcl.github.io/dace/webclient/renderer_dir/dagre.js\"></script>\n",
       "<script src=\"https://spcl.github.io/dace/webclient/renderer_dir/global_vars.js\"></script>\n",
       "<script src=\"https://spcl.github.io/dace/webclient/renderer_elements.js\"></script>\n",
       "<script src=\"https://spcl.github.io/dace/webclient/sdfg_utils.js\"></script>\n",
       "<script src=\"https://spcl.github.io/dace/webclient/renderer.js\"></script>\n",
       "<link href=\"https://fonts.googleapis.com/icon?family=Material+Icons\" rel=\"stylesheet\">"
      ],
      "text/plain": [
       "<IPython.core.display.HTML object>"
      ]
     },
     "metadata": {},
     "output_type": "display_data"
    }
   ],
   "source": [
    "import dace"
   ]
  },
  {
   "cell_type": "markdown",
   "metadata": {},
   "source": [
    "Explicit dataflow is a Python-based syntax that is close to defining SDFGs. In explicit ` @dace.program `s, the code (Tasklets) and memory movement (Memlets) are specified separately, as we show below.\n",
    "\n",
    "## Matrix Transposition\n",
    "\n",
    "We begin with a simple example, transposing a matrix (out-of-place). \n",
    "\n",
    "First, since we do not know what the matrix sizes will be, we define symbolic sizes:"
   ]
  },
  {
   "cell_type": "code",
   "execution_count": 2,
   "metadata": {},
   "outputs": [],
   "source": [
    "M = dace.symbol('M')\n",
    "N = dace.symbol('N')"
   ]
  },
  {
   "cell_type": "markdown",
   "metadata": {},
   "source": [
    "We now proceed to define the data-centric part of the application (i.e., the part that can be optimized by DaCe). It is a simple function which, when called, invokes the compilation and optimization procedure. It can also be compiled explicitly, as we show in the next example.\n",
    "\n",
    "DaCe programs use explicit types, so that they can be compiled. We provide a numpy-compatible set of types that can define N-dimensional tensors. For example, `dace.int64` defines a 64-bit signed integer scalar, and `dace.float32[133,8]` defines a 133-row and 8-column 2D array."
   ]
  },
  {
   "cell_type": "code",
   "execution_count": 3,
   "metadata": {},
   "outputs": [],
   "source": [
    "@dace.program\n",
    "def transpose(A: dace.float32[M, N], B: dace.float32[N, M]):\n",
    "    # Inside the function we will define a tasklet in a map, which is shortened\n",
    "    # to dace.map. We define the map range in the arguments:\n",
    "    @dace.map\n",
    "    def mytasklet(i: _[0:M], j: _[0:N]):\n",
    "        # Pre-declaring the memlets is required in explicit dataflow, tasklets\n",
    "        # cannot use any external memory apart from data flowing to/from it.\n",
    "        a << A[i,j]  # Input memlet (<<)\n",
    "        b >> B[j,i]  # Output memlet (>>)\n",
    "        \n",
    "        # The code\n",
    "        b = a"
   ]
  },
  {
   "cell_type": "markdown",
   "metadata": {},
   "source": [
    "And that's it! We will now define some regression test using numpy:"
   ]
  },
  {
   "cell_type": "code",
   "execution_count": 4,
   "metadata": {},
   "outputs": [],
   "source": [
    "import numpy as np\n",
    "A = np.random.rand(37, 11).astype(np.float32)\n",
    "expected = A.transpose()\n",
    "# Define an array for the output of the dace program\n",
    "B = np.random.rand(11, 37).astype(np.float32)"
   ]
  },
  {
   "cell_type": "markdown",
   "metadata": {},
   "source": [
    "Before we call `transpose`, we can inspect the SDFG:"
   ]
  },
  {
   "cell_type": "code",
   "execution_count": 5,
   "metadata": {
    "scrolled": true
   },
   "outputs": [
    {
     "name": "stdout",
     "output_type": "stream",
     "text": [
      "Applied 2 StateFusion, 1 InlineSDFG.\n"
     ]
    },
    {
     "data": {
      "text/html": [
       "\n",
       "<div id=\"contents_43843927853275766\" style=\"position: relative; resize: vertical; overflow: auto\"></div>\n",
       "<script>\n",
       "    var sdfg_43843927853275766 = \"{\\\"type\\\": \\\"SDFG\\\", \\\"attributes\\\": {\\\"arg_types\\\": [], \\\"_meta_arg_types\\\": {\\\"metatype\\\": \\\"OrderedDictProperty\\\", \\\"desc\\\": \\\"Formal parameter list\\\", \\\"category\\\": \\\"General\\\", \\\"default\\\": []}, \\\"constants_prop\\\": {}, \\\"_meta_constants_prop\\\": {\\\"metatype\\\": \\\"dict\\\", \\\"desc\\\": \\\"Compile-time constants\\\", \\\"category\\\": \\\"General\\\", \\\"default\\\": {}}, \\\"_arrays\\\": {\\\"A\\\": {\\\"type\\\": \\\"Array\\\", \\\"attributes\\\": {\\\"allow_conflicts\\\": false, \\\"_meta_allow_conflicts\\\": {\\\"metatype\\\": \\\"bool\\\", \\\"desc\\\": \\\"If enabled, allows more than one memlet to write to the same memory location without conflict resolution.\\\", \\\"category\\\": \\\"General\\\", \\\"default\\\": false}, \\\"materialize_func\\\": null, \\\"_meta_materialize_func\\\": {\\\"metatype\\\": \\\"str\\\", \\\"desc\\\": \\\"\\\", \\\"category\\\": \\\"General\\\", \\\"default\\\": null}, \\\"strides\\\": [\\\"N\\\", \\\"1\\\"], \\\"_meta_strides\\\": {\\\"metatype\\\": \\\"list\\\", \\\"desc\\\": \\\"For each dimension, the number of elements to skip in order to obtain the next element in that dimension.\\\", \\\"category\\\": \\\"General\\\", \\\"default\\\": []}, \\\"total_size\\\": \\\"M*N\\\", \\\"_meta_total_size\\\": {\\\"metatype\\\": \\\"SymbolicProperty\\\", \\\"desc\\\": \\\"The total allocated size of the array. Can be used for padding.\\\", \\\"category\\\": \\\"General\\\", \\\"default\\\": 1}, \\\"offset\\\": [\\\"0\\\", \\\"0\\\"], \\\"_meta_offset\\\": {\\\"metatype\\\": \\\"list\\\", \\\"desc\\\": \\\"Initial offset to translate all indices by.\\\", \\\"category\\\": \\\"General\\\", \\\"default\\\": []}, \\\"may_alias\\\": false, \\\"_meta_may_alias\\\": {\\\"metatype\\\": \\\"bool\\\", \\\"desc\\\": \\\"This pointer may alias with other pointers in the same function\\\", \\\"category\\\": \\\"General\\\", \\\"default\\\": false}, \\\"dtype\\\": \\\"float32\\\", \\\"_meta_dtype\\\": {\\\"metatype\\\": \\\"typeclass\\\", \\\"desc\\\": \\\"\\\", \\\"category\\\": \\\"General\\\", \\\"default\\\": \\\"int32\\\"}, \\\"shape\\\": [\\\"M\\\", \\\"N\\\"], \\\"_meta_shape\\\": {\\\"metatype\\\": \\\"tuple\\\", \\\"desc\\\": \\\"\\\", \\\"category\\\": \\\"General\\\", \\\"default\\\": []}, \\\"transient\\\": false, \\\"_meta_transient\\\": {\\\"metatype\\\": \\\"bool\\\", \\\"desc\\\": \\\"\\\", \\\"category\\\": \\\"General\\\", \\\"default\\\": false}, \\\"storage\\\": \\\"Default\\\", \\\"_meta_storage\\\": {\\\"metatype\\\": \\\"StorageType\\\", \\\"desc\\\": \\\"Storage location\\\", \\\"category\\\": \\\"General\\\", \\\"default\\\": \\\"Default\\\"}, \\\"location\\\": \\\"\\\", \\\"_meta_location\\\": {\\\"metatype\\\": \\\"str\\\", \\\"desc\\\": \\\"Full storage location identifier (e.g., rank, GPU ID)\\\", \\\"category\\\": \\\"General\\\", \\\"default\\\": \\\"\\\"}, \\\"toplevel\\\": false, \\\"_meta_toplevel\\\": {\\\"metatype\\\": \\\"bool\\\", \\\"desc\\\": \\\"Allocate array outside of state\\\", \\\"category\\\": \\\"General\\\", \\\"default\\\": false}, \\\"debuginfo\\\": null, \\\"_meta_debuginfo\\\": {\\\"metatype\\\": \\\"DebugInfo\\\", \\\"desc\\\": \\\"\\\", \\\"category\\\": \\\"General\\\", \\\"default\\\": {\\\"type\\\": \\\"DebugInfo\\\", \\\"start_line\\\": 0, \\\"end_line\\\": 0, \\\"start_column\\\": 0, \\\"end_column\\\": 0, \\\"filename\\\": null}}}}, \\\"B\\\": {\\\"type\\\": \\\"Array\\\", \\\"attributes\\\": {\\\"allow_conflicts\\\": false, \\\"_meta_allow_conflicts\\\": {\\\"metatype\\\": \\\"bool\\\", \\\"desc\\\": \\\"If enabled, allows more than one memlet to write to the same memory location without conflict resolution.\\\", \\\"category\\\": \\\"General\\\", \\\"default\\\": false}, \\\"materialize_func\\\": null, \\\"_meta_materialize_func\\\": {\\\"metatype\\\": \\\"str\\\", \\\"desc\\\": \\\"\\\", \\\"category\\\": \\\"General\\\", \\\"default\\\": null}, \\\"strides\\\": [\\\"M\\\", \\\"1\\\"], \\\"_meta_strides\\\": {\\\"metatype\\\": \\\"list\\\", \\\"desc\\\": \\\"For each dimension, the number of elements to skip in order to obtain the next element in that dimension.\\\", \\\"category\\\": \\\"General\\\", \\\"default\\\": []}, \\\"total_size\\\": \\\"M*N\\\", \\\"_meta_total_size\\\": {\\\"metatype\\\": \\\"SymbolicProperty\\\", \\\"desc\\\": \\\"The total allocated size of the array. Can be used for padding.\\\", \\\"category\\\": \\\"General\\\", \\\"default\\\": 1}, \\\"offset\\\": [\\\"0\\\", \\\"0\\\"], \\\"_meta_offset\\\": {\\\"metatype\\\": \\\"list\\\", \\\"desc\\\": \\\"Initial offset to translate all indices by.\\\", \\\"category\\\": \\\"General\\\", \\\"default\\\": []}, \\\"may_alias\\\": false, \\\"_meta_may_alias\\\": {\\\"metatype\\\": \\\"bool\\\", \\\"desc\\\": \\\"This pointer may alias with other pointers in the same function\\\", \\\"category\\\": \\\"General\\\", \\\"default\\\": false}, \\\"dtype\\\": \\\"float32\\\", \\\"_meta_dtype\\\": {\\\"metatype\\\": \\\"typeclass\\\", \\\"desc\\\": \\\"\\\", \\\"category\\\": \\\"General\\\", \\\"default\\\": \\\"int32\\\"}, \\\"shape\\\": [\\\"N\\\", \\\"M\\\"], \\\"_meta_shape\\\": {\\\"metatype\\\": \\\"tuple\\\", \\\"desc\\\": \\\"\\\", \\\"category\\\": \\\"General\\\", \\\"default\\\": []}, \\\"transient\\\": false, \\\"_meta_transient\\\": {\\\"metatype\\\": \\\"bool\\\", \\\"desc\\\": \\\"\\\", \\\"category\\\": \\\"General\\\", \\\"default\\\": false}, \\\"storage\\\": \\\"Default\\\", \\\"_meta_storage\\\": {\\\"metatype\\\": \\\"StorageType\\\", \\\"desc\\\": \\\"Storage location\\\", \\\"category\\\": \\\"General\\\", \\\"default\\\": \\\"Default\\\"}, \\\"location\\\": \\\"\\\", \\\"_meta_location\\\": {\\\"metatype\\\": \\\"str\\\", \\\"desc\\\": \\\"Full storage location identifier (e.g., rank, GPU ID)\\\", \\\"category\\\": \\\"General\\\", \\\"default\\\": \\\"\\\"}, \\\"toplevel\\\": false, \\\"_meta_toplevel\\\": {\\\"metatype\\\": \\\"bool\\\", \\\"desc\\\": \\\"Allocate array outside of state\\\", \\\"category\\\": \\\"General\\\", \\\"default\\\": false}, \\\"debuginfo\\\": null, \\\"_meta_debuginfo\\\": {\\\"metatype\\\": \\\"DebugInfo\\\", \\\"desc\\\": \\\"\\\", \\\"category\\\": \\\"General\\\", \\\"default\\\": {\\\"type\\\": \\\"DebugInfo\\\", \\\"start_line\\\": 0, \\\"end_line\\\": 0, \\\"start_column\\\": 0, \\\"end_column\\\": 0, \\\"filename\\\": null}}}}}, \\\"_meta__arrays\\\": {\\\"metatype\\\": \\\"dict\\\", \\\"desc\\\": \\\"Data descriptors for this SDFG\\\", \\\"category\\\": \\\"General\\\", \\\"default\\\": {}}, \\\"global_code\\\": {\\\"string_data\\\": \\\"\\\", \\\"language\\\": \\\"Python\\\"}, \\\"_meta_global_code\\\": {\\\"metatype\\\": \\\"CodeProperty\\\", \\\"desc\\\": \\\"Code generated in a global scope on the frame-code generated file.\\\", \\\"category\\\": \\\"General\\\", \\\"default\\\": {\\\"string_data\\\": \\\"\\\", \\\"language\\\": \\\"Python\\\"}}, \\\"init_code\\\": {\\\"string_data\\\": \\\"\\\", \\\"language\\\": \\\"Python\\\"}, \\\"_meta_init_code\\\": {\\\"metatype\\\": \\\"CodeProperty\\\", \\\"desc\\\": \\\"Code generated in the `__dapp_init` function.\\\", \\\"category\\\": \\\"General\\\", \\\"default\\\": {\\\"string_data\\\": \\\"\\\", \\\"language\\\": \\\"Python\\\"}}, \\\"exit_code\\\": {\\\"string_data\\\": \\\"\\\", \\\"language\\\": \\\"Python\\\"}, \\\"_meta_exit_code\\\": {\\\"metatype\\\": \\\"CodeProperty\\\", \\\"desc\\\": \\\"Code generated in the `__dapp_exit` function.\\\", \\\"category\\\": \\\"General\\\", \\\"default\\\": {\\\"string_data\\\": \\\"\\\", \\\"language\\\": \\\"Python\\\"}}, \\\"name\\\": \\\"transpose\\\"}, \\\"nodes\\\": [{\\\"type\\\": \\\"SDFGState\\\", \\\"label\\\": \\\"s5_4\\\", \\\"id\\\": 0, \\\"collapsed\\\": false, \\\"scope_dict\\\": {\\\"-1\\\": [0, 2, 3], \\\"0\\\": [1, 4]}, \\\"nodes\\\": [{\\\"type\\\": \\\"MapEntry\\\", \\\"label\\\": \\\"mytasklet[i=0:M, j=0:N]\\\", \\\"attributes\\\": {\\\"label\\\": \\\"mytasklet\\\", \\\"_meta_label\\\": {\\\"metatype\\\": \\\"str\\\", \\\"desc\\\": \\\"Label of the map\\\", \\\"category\\\": \\\"General\\\", \\\"default\\\": \\\"\\\", \\\"indirected\\\": true}, \\\"params\\\": [\\\"i\\\", \\\"j\\\"], \\\"_meta_params\\\": {\\\"metatype\\\": \\\"list\\\", \\\"desc\\\": \\\"Mapped parameters\\\", \\\"category\\\": \\\"General\\\", \\\"default\\\": [], \\\"indirected\\\": true}, \\\"range\\\": {\\\"type\\\": \\\"Range\\\", \\\"ranges\\\": [{\\\"start\\\": \\\"0\\\", \\\"end\\\": \\\"M - 1\\\", \\\"step\\\": \\\"1\\\", \\\"tile\\\": \\\"1\\\"}, {\\\"start\\\": \\\"0\\\", \\\"end\\\": \\\"N - 1\\\", \\\"step\\\": \\\"1\\\", \\\"tile\\\": \\\"1\\\"}]}, \\\"_meta_range\\\": {\\\"metatype\\\": \\\"Range\\\", \\\"desc\\\": \\\"Ranges of map parameters\\\", \\\"category\\\": \\\"General\\\", \\\"default\\\": {\\\"type\\\": \\\"Range\\\", \\\"ranges\\\": []}, \\\"indirected\\\": true}, \\\"schedule\\\": \\\"Default\\\", \\\"_meta_schedule\\\": {\\\"metatype\\\": \\\"ScheduleType\\\", \\\"desc\\\": \\\"Map schedule\\\", \\\"category\\\": \\\"General\\\", \\\"default\\\": \\\"Default\\\", \\\"indirected\\\": true}, \\\"is_async\\\": false, \\\"_meta_is_async\\\": {\\\"metatype\\\": \\\"bool\\\", \\\"desc\\\": \\\"Map asynchronous evaluation\\\", \\\"category\\\": \\\"General\\\", \\\"default\\\": false, \\\"indirected\\\": true}, \\\"unroll\\\": false, \\\"_meta_unroll\\\": {\\\"metatype\\\": \\\"bool\\\", \\\"desc\\\": \\\"Map unrolling\\\", \\\"category\\\": \\\"General\\\", \\\"default\\\": false, \\\"indirected\\\": true}, \\\"flatten\\\": false, \\\"_meta_flatten\\\": {\\\"metatype\\\": \\\"bool\\\", \\\"desc\\\": \\\"Map loop flattening\\\", \\\"category\\\": \\\"General\\\", \\\"default\\\": false, \\\"indirected\\\": true}, \\\"debuginfo\\\": {\\\"type\\\": \\\"DebugInfo\\\", \\\"start_line\\\": 1874, \\\"end_line\\\": 1874, \\\"start_column\\\": 0, \\\"end_column\\\": 0, \\\"filename\\\": \\\"/path/to/dace/dace/frontend/python/newast.py\\\"}, \\\"_meta_debuginfo\\\": {\\\"metatype\\\": \\\"DebugInfo\\\", \\\"desc\\\": \\\"\\\", \\\"category\\\": \\\"General\\\", \\\"default\\\": {\\\"type\\\": \\\"DebugInfo\\\", \\\"start_line\\\": 0, \\\"end_line\\\": 0, \\\"start_column\\\": 0, \\\"end_column\\\": 0, \\\"filename\\\": null}, \\\"indirected\\\": true}, \\\"is_collapsed\\\": false, \\\"_meta_is_collapsed\\\": {\\\"metatype\\\": \\\"bool\\\", \\\"desc\\\": \\\"Show this node/scope/state as collapsed\\\", \\\"category\\\": \\\"General\\\", \\\"default\\\": false, \\\"indirected\\\": true}, \\\"instrument\\\": \\\"No_Instrumentation\\\", \\\"_meta_instrument\\\": {\\\"metatype\\\": \\\"InstrumentationType\\\", \\\"desc\\\": \\\"Measure execution statistics with given method\\\", \\\"category\\\": \\\"General\\\", \\\"default\\\": \\\"No_Instrumentation\\\", \\\"indirected\\\": true}, \\\"in_connectors\\\": [\\\"IN_1\\\"], \\\"_meta_in_connectors\\\": {\\\"metatype\\\": \\\"set\\\", \\\"desc\\\": \\\"A set of input connectors for this node.\\\", \\\"category\\\": \\\"General\\\", \\\"default\\\": []}, \\\"out_connectors\\\": [\\\"OUT_1\\\"], \\\"_meta_out_connectors\\\": {\\\"metatype\\\": \\\"set\\\", \\\"desc\\\": \\\"A set of output connectors for this node.\\\", \\\"category\\\": \\\"General\\\", \\\"default\\\": []}}, \\\"id\\\": 0, \\\"scope_entry\\\": null, \\\"scope_exits\\\": [\\\"1\\\"]}, {\\\"type\\\": \\\"MapExit\\\", \\\"label\\\": \\\"mytasklet[i=0:M, j=0:N]\\\", \\\"attributes\\\": {\\\"in_connectors\\\": [\\\"IN_1\\\"], \\\"_meta_in_connectors\\\": {\\\"metatype\\\": \\\"set\\\", \\\"desc\\\": \\\"A set of input connectors for this node.\\\", \\\"category\\\": \\\"General\\\", \\\"default\\\": []}, \\\"out_connectors\\\": [\\\"OUT_1\\\"], \\\"_meta_out_connectors\\\": {\\\"metatype\\\": \\\"set\\\", \\\"desc\\\": \\\"A set of output connectors for this node.\\\", \\\"category\\\": \\\"General\\\", \\\"default\\\": []}}, \\\"id\\\": 1, \\\"scope_entry\\\": \\\"0\\\", \\\"scope_exits\\\": [\\\"1\\\"]}, {\\\"type\\\": \\\"AccessNode\\\", \\\"label\\\": \\\"A\\\", \\\"attributes\\\": {\\\"access\\\": \\\"ReadOnly\\\", \\\"_meta_access\\\": {\\\"metatype\\\": \\\"AccessType\\\", \\\"desc\\\": \\\"Type of access to this array\\\", \\\"category\\\": \\\"General\\\", \\\"default\\\": \\\"ReadWrite\\\"}, \\\"setzero\\\": false, \\\"_meta_setzero\\\": {\\\"metatype\\\": \\\"bool\\\", \\\"desc\\\": \\\"Initialize to zero\\\", \\\"category\\\": \\\"General\\\", \\\"default\\\": false}, \\\"debuginfo2\\\": {\\\"type\\\": \\\"DebugInfo\\\", \\\"start_line\\\": 2307, \\\"end_line\\\": 2307, \\\"start_column\\\": 0, \\\"end_column\\\": 0, \\\"filename\\\": \\\"/path/to/dace/dace/frontend/python/newast.py\\\"}, \\\"_meta_debuginfo2\\\": {\\\"metatype\\\": \\\"DebugInfo\\\", \\\"desc\\\": \\\"\\\", \\\"category\\\": \\\"General\\\", \\\"default\\\": {\\\"type\\\": \\\"DebugInfo\\\", \\\"start_line\\\": 0, \\\"end_line\\\": 0, \\\"start_column\\\": 0, \\\"end_column\\\": 0, \\\"filename\\\": null}}, \\\"data\\\": \\\"A\\\", \\\"_meta_data\\\": {\\\"metatype\\\": \\\"DataProperty\\\", \\\"desc\\\": \\\"Data (array, stream, scalar) to access\\\", \\\"category\\\": \\\"General\\\", \\\"default\\\": null}, \\\"in_connectors\\\": [], \\\"_meta_in_connectors\\\": {\\\"metatype\\\": \\\"set\\\", \\\"desc\\\": \\\"A set of input connectors for this node.\\\", \\\"category\\\": \\\"General\\\", \\\"default\\\": []}, \\\"out_connectors\\\": [], \\\"_meta_out_connectors\\\": {\\\"metatype\\\": \\\"set\\\", \\\"desc\\\": \\\"A set of output connectors for this node.\\\", \\\"category\\\": \\\"General\\\", \\\"default\\\": []}}, \\\"id\\\": 2, \\\"scope_entry\\\": null, \\\"scope_exits\\\": []}, {\\\"type\\\": \\\"AccessNode\\\", \\\"label\\\": \\\"B\\\", \\\"attributes\\\": {\\\"access\\\": \\\"WriteOnly\\\", \\\"_meta_access\\\": {\\\"metatype\\\": \\\"AccessType\\\", \\\"desc\\\": \\\"Type of access to this array\\\", \\\"category\\\": \\\"General\\\", \\\"default\\\": \\\"ReadWrite\\\"}, \\\"setzero\\\": false, \\\"_meta_setzero\\\": {\\\"metatype\\\": \\\"bool\\\", \\\"desc\\\": \\\"Initialize to zero\\\", \\\"category\\\": \\\"General\\\", \\\"default\\\": false}, \\\"debuginfo2\\\": {\\\"type\\\": \\\"DebugInfo\\\", \\\"start_line\\\": 2399, \\\"end_line\\\": 2399, \\\"start_column\\\": 0, \\\"end_column\\\": 0, \\\"filename\\\": \\\"/path/to/dace/dace/frontend/python/newast.py\\\"}, \\\"_meta_debuginfo2\\\": {\\\"metatype\\\": \\\"DebugInfo\\\", \\\"desc\\\": \\\"\\\", \\\"category\\\": \\\"General\\\", \\\"default\\\": {\\\"type\\\": \\\"DebugInfo\\\", \\\"start_line\\\": 0, \\\"end_line\\\": 0, \\\"start_column\\\": 0, \\\"end_column\\\": 0, \\\"filename\\\": null}}, \\\"data\\\": \\\"B\\\", \\\"_meta_data\\\": {\\\"metatype\\\": \\\"DataProperty\\\", \\\"desc\\\": \\\"Data (array, stream, scalar) to access\\\", \\\"category\\\": \\\"General\\\", \\\"default\\\": null}, \\\"in_connectors\\\": [], \\\"_meta_in_connectors\\\": {\\\"metatype\\\": \\\"set\\\", \\\"desc\\\": \\\"A set of input connectors for this node.\\\", \\\"category\\\": \\\"General\\\", \\\"default\\\": []}, \\\"out_connectors\\\": [], \\\"_meta_out_connectors\\\": {\\\"metatype\\\": \\\"set\\\", \\\"desc\\\": \\\"A set of output connectors for this node.\\\", \\\"category\\\": \\\"General\\\", \\\"default\\\": []}}, \\\"id\\\": 3, \\\"scope_entry\\\": null, \\\"scope_exits\\\": []}, {\\\"type\\\": \\\"Tasklet\\\", \\\"label\\\": \\\"mytasklet\\\", \\\"attributes\\\": {\\\"label\\\": \\\"mytasklet\\\", \\\"_meta_label\\\": {\\\"metatype\\\": \\\"str\\\", \\\"desc\\\": \\\"Name of the tasklet\\\", \\\"category\\\": \\\"General\\\", \\\"default\\\": \\\"\\\"}, \\\"code\\\": {\\\"string_data\\\": \\\"b = a\\\", \\\"language\\\": \\\"Python\\\"}, \\\"_meta_code\\\": {\\\"metatype\\\": \\\"CodeProperty\\\", \\\"desc\\\": \\\"Tasklet code\\\", \\\"category\\\": \\\"General\\\", \\\"default\\\": {\\\"string_data\\\": \\\"\\\", \\\"language\\\": \\\"Python\\\"}}, \\\"code_global\\\": {\\\"string_data\\\": \\\"\\\", \\\"language\\\": \\\"Python\\\"}, \\\"_meta_code_global\\\": {\\\"metatype\\\": \\\"CodeProperty\\\", \\\"desc\\\": \\\"Global scope code needed for tasklet execution\\\", \\\"category\\\": \\\"General\\\", \\\"default\\\": {\\\"string_data\\\": \\\"\\\", \\\"language\\\": \\\"Python\\\"}}, \\\"code_init\\\": {\\\"string_data\\\": \\\"\\\", \\\"language\\\": \\\"Python\\\"}, \\\"_meta_code_init\\\": {\\\"metatype\\\": \\\"CodeProperty\\\", \\\"desc\\\": \\\"Extra code that is called on DaCe runtime initialization\\\", \\\"category\\\": \\\"General\\\", \\\"default\\\": {\\\"string_data\\\": \\\"\\\", \\\"language\\\": \\\"Python\\\"}}, \\\"code_exit\\\": {\\\"string_data\\\": \\\"\\\", \\\"language\\\": \\\"Python\\\"}, \\\"_meta_code_exit\\\": {\\\"metatype\\\": \\\"CodeProperty\\\", \\\"desc\\\": \\\"Extra code that is called on DaCe runtime cleanup\\\", \\\"category\\\": \\\"General\\\", \\\"default\\\": {\\\"string_data\\\": \\\"\\\", \\\"language\\\": \\\"Python\\\"}}, \\\"location\\\": \\\"-1\\\", \\\"_meta_location\\\": {\\\"metatype\\\": \\\"str\\\", \\\"desc\\\": \\\"Tasklet execution location descriptor\\\", \\\"category\\\": \\\"General\\\", \\\"default\\\": \\\"\\\"}, \\\"debuginfo\\\": {\\\"type\\\": \\\"DebugInfo\\\", \\\"start_line\\\": 5, \\\"end_line\\\": 13, \\\"start_column\\\": 4, \\\"end_column\\\": 8, \\\"filename\\\": \\\"<ipython-input-3-0cbaae85d4b1>\\\"}, \\\"_meta_debuginfo\\\": {\\\"metatype\\\": \\\"DebugInfo\\\", \\\"desc\\\": \\\"\\\", \\\"category\\\": \\\"General\\\", \\\"default\\\": {\\\"type\\\": \\\"DebugInfo\\\", \\\"start_line\\\": 0, \\\"end_line\\\": 0, \\\"start_column\\\": 0, \\\"end_column\\\": 0, \\\"filename\\\": null}}, \\\"instrument\\\": \\\"No_Instrumentation\\\", \\\"_meta_instrument\\\": {\\\"metatype\\\": \\\"InstrumentationType\\\", \\\"desc\\\": \\\"Measure execution statistics with given method\\\", \\\"category\\\": \\\"General\\\", \\\"default\\\": \\\"No_Instrumentation\\\"}, \\\"in_connectors\\\": [\\\"a\\\"], \\\"_meta_in_connectors\\\": {\\\"metatype\\\": \\\"set\\\", \\\"desc\\\": \\\"A set of input connectors for this node.\\\", \\\"category\\\": \\\"General\\\", \\\"default\\\": []}, \\\"out_connectors\\\": [\\\"b\\\"], \\\"_meta_out_connectors\\\": {\\\"metatype\\\": \\\"set\\\", \\\"desc\\\": \\\"A set of output connectors for this node.\\\", \\\"category\\\": \\\"General\\\", \\\"default\\\": []}}, \\\"id\\\": 4, \\\"scope_entry\\\": \\\"0\\\", \\\"scope_exits\\\": [\\\"1\\\"]}], \\\"edges\\\": [{\\\"type\\\": \\\"MultiConnectorEdge\\\", \\\"attributes\\\": {\\\"data\\\": {\\\"type\\\": \\\"Memlet\\\", \\\"label\\\": \\\"A[0:M, 0:N]\\\", \\\"attributes\\\": {\\\"veclen\\\": 1, \\\"_meta_veclen\\\": {\\\"metatype\\\": \\\"int\\\", \\\"desc\\\": \\\"Vector length\\\", \\\"category\\\": \\\"General\\\", \\\"default\\\": 0}, \\\"num_accesses\\\": \\\"M*N\\\", \\\"_meta_num_accesses\\\": {\\\"metatype\\\": \\\"SymbolicProperty\\\", \\\"desc\\\": \\\"\\\", \\\"category\\\": \\\"General\\\", \\\"default\\\": 0}, \\\"subset\\\": {\\\"type\\\": \\\"Range\\\", \\\"ranges\\\": [{\\\"start\\\": \\\"0\\\", \\\"end\\\": \\\"M - 1\\\", \\\"step\\\": \\\"1\\\", \\\"tile\\\": \\\"1\\\"}, {\\\"start\\\": \\\"0\\\", \\\"end\\\": \\\"N - 1\\\", \\\"step\\\": \\\"1\\\", \\\"tile\\\": \\\"1\\\"}]}, \\\"_meta_subset\\\": {\\\"metatype\\\": \\\"SubsetProperty\\\", \\\"desc\\\": \\\"\\\", \\\"category\\\": \\\"General\\\", \\\"default\\\": {\\\"type\\\": \\\"Range\\\", \\\"ranges\\\": []}}, \\\"other_subset\\\": null, \\\"_meta_other_subset\\\": {\\\"metatype\\\": \\\"SubsetProperty\\\", \\\"desc\\\": \\\"\\\", \\\"category\\\": \\\"General\\\", \\\"default\\\": null}, \\\"data\\\": \\\"A\\\", \\\"_meta_data\\\": {\\\"metatype\\\": \\\"DataProperty\\\", \\\"desc\\\": \\\"\\\", \\\"category\\\": \\\"General\\\", \\\"default\\\": null}, \\\"debuginfo\\\": null, \\\"_meta_debuginfo\\\": {\\\"metatype\\\": \\\"DebugInfo\\\", \\\"desc\\\": \\\"\\\", \\\"category\\\": \\\"General\\\", \\\"default\\\": {\\\"type\\\": \\\"DebugInfo\\\", \\\"start_line\\\": 0, \\\"end_line\\\": 0, \\\"start_column\\\": 0, \\\"end_column\\\": 0, \\\"filename\\\": null}}, \\\"wcr\\\": null, \\\"_meta_wcr\\\": {\\\"metatype\\\": \\\"LambdaProperty\\\", \\\"desc\\\": \\\"\\\", \\\"category\\\": \\\"General\\\", \\\"default\\\": null}, \\\"wcr_identity\\\": null, \\\"_meta_wcr_identity\\\": {\\\"metatype\\\": \\\"object\\\", \\\"desc\\\": \\\"\\\", \\\"category\\\": \\\"General\\\", \\\"default\\\": null}, \\\"wcr_conflict\\\": true, \\\"_meta_wcr_conflict\\\": {\\\"metatype\\\": \\\"bool\\\", \\\"desc\\\": \\\"\\\", \\\"category\\\": \\\"General\\\", \\\"default\\\": true}, \\\"allow_oob\\\": false, \\\"_meta_allow_oob\\\": {\\\"metatype\\\": \\\"bool\\\", \\\"desc\\\": \\\"Bypass out-of-bounds validation\\\", \\\"category\\\": \\\"General\\\", \\\"default\\\": false}}}}, \\\"src\\\": \\\"2\\\", \\\"dst\\\": \\\"0\\\", \\\"dst_connector\\\": \\\"IN_1\\\", \\\"src_connector\\\": null}, {\\\"type\\\": \\\"MultiConnectorEdge\\\", \\\"attributes\\\": {\\\"data\\\": {\\\"type\\\": \\\"Memlet\\\", \\\"label\\\": \\\"B[0:N, 0:M]\\\", \\\"attributes\\\": {\\\"veclen\\\": 1, \\\"_meta_veclen\\\": {\\\"metatype\\\": \\\"int\\\", \\\"desc\\\": \\\"Vector length\\\", \\\"category\\\": \\\"General\\\", \\\"default\\\": 0}, \\\"num_accesses\\\": \\\"M*N\\\", \\\"_meta_num_accesses\\\": {\\\"metatype\\\": \\\"SymbolicProperty\\\", \\\"desc\\\": \\\"\\\", \\\"category\\\": \\\"General\\\", \\\"default\\\": 0}, \\\"subset\\\": {\\\"type\\\": \\\"Range\\\", \\\"ranges\\\": [{\\\"start\\\": \\\"0\\\", \\\"end\\\": \\\"N - 1\\\", \\\"step\\\": \\\"1\\\", \\\"tile\\\": \\\"1\\\"}, {\\\"start\\\": \\\"0\\\", \\\"end\\\": \\\"M - 1\\\", \\\"step\\\": \\\"1\\\", \\\"tile\\\": \\\"1\\\"}]}, \\\"_meta_subset\\\": {\\\"metatype\\\": \\\"SubsetProperty\\\", \\\"desc\\\": \\\"\\\", \\\"category\\\": \\\"General\\\", \\\"default\\\": {\\\"type\\\": \\\"Range\\\", \\\"ranges\\\": []}}, \\\"other_subset\\\": null, \\\"_meta_other_subset\\\": {\\\"metatype\\\": \\\"SubsetProperty\\\", \\\"desc\\\": \\\"\\\", \\\"category\\\": \\\"General\\\", \\\"default\\\": null}, \\\"data\\\": \\\"B\\\", \\\"_meta_data\\\": {\\\"metatype\\\": \\\"DataProperty\\\", \\\"desc\\\": \\\"\\\", \\\"category\\\": \\\"General\\\", \\\"default\\\": null}, \\\"debuginfo\\\": null, \\\"_meta_debuginfo\\\": {\\\"metatype\\\": \\\"DebugInfo\\\", \\\"desc\\\": \\\"\\\", \\\"category\\\": \\\"General\\\", \\\"default\\\": {\\\"type\\\": \\\"DebugInfo\\\", \\\"start_line\\\": 0, \\\"end_line\\\": 0, \\\"start_column\\\": 0, \\\"end_column\\\": 0, \\\"filename\\\": null}}, \\\"wcr\\\": null, \\\"_meta_wcr\\\": {\\\"metatype\\\": \\\"LambdaProperty\\\", \\\"desc\\\": \\\"\\\", \\\"category\\\": \\\"General\\\", \\\"default\\\": null}, \\\"wcr_identity\\\": null, \\\"_meta_wcr_identity\\\": {\\\"metatype\\\": \\\"object\\\", \\\"desc\\\": \\\"\\\", \\\"category\\\": \\\"General\\\", \\\"default\\\": null}, \\\"wcr_conflict\\\": true, \\\"_meta_wcr_conflict\\\": {\\\"metatype\\\": \\\"bool\\\", \\\"desc\\\": \\\"\\\", \\\"category\\\": \\\"General\\\", \\\"default\\\": true}, \\\"allow_oob\\\": false, \\\"_meta_allow_oob\\\": {\\\"metatype\\\": \\\"bool\\\", \\\"desc\\\": \\\"Bypass out-of-bounds validation\\\", \\\"category\\\": \\\"General\\\", \\\"default\\\": false}}}}, \\\"src\\\": \\\"1\\\", \\\"dst\\\": \\\"3\\\", \\\"dst_connector\\\": null, \\\"src_connector\\\": \\\"OUT_1\\\"}, {\\\"type\\\": \\\"MultiConnectorEdge\\\", \\\"attributes\\\": {\\\"data\\\": {\\\"type\\\": \\\"Memlet\\\", \\\"label\\\": \\\"A[i, j]\\\", \\\"attributes\\\": {\\\"veclen\\\": 1, \\\"_meta_veclen\\\": {\\\"metatype\\\": \\\"int\\\", \\\"desc\\\": \\\"Vector length\\\", \\\"category\\\": \\\"General\\\", \\\"default\\\": 0}, \\\"num_accesses\\\": \\\"1\\\", \\\"_meta_num_accesses\\\": {\\\"metatype\\\": \\\"SymbolicProperty\\\", \\\"desc\\\": \\\"\\\", \\\"category\\\": \\\"General\\\", \\\"default\\\": 0}, \\\"subset\\\": {\\\"type\\\": \\\"Range\\\", \\\"ranges\\\": [{\\\"start\\\": \\\"i\\\", \\\"end\\\": \\\"i\\\", \\\"step\\\": \\\"1\\\", \\\"tile\\\": \\\"1\\\"}, {\\\"start\\\": \\\"j\\\", \\\"end\\\": \\\"j\\\", \\\"step\\\": \\\"1\\\", \\\"tile\\\": \\\"1\\\"}]}, \\\"_meta_subset\\\": {\\\"metatype\\\": \\\"SubsetProperty\\\", \\\"desc\\\": \\\"\\\", \\\"category\\\": \\\"General\\\", \\\"default\\\": {\\\"type\\\": \\\"Range\\\", \\\"ranges\\\": []}}, \\\"other_subset\\\": null, \\\"_meta_other_subset\\\": {\\\"metatype\\\": \\\"SubsetProperty\\\", \\\"desc\\\": \\\"\\\", \\\"category\\\": \\\"General\\\", \\\"default\\\": null}, \\\"data\\\": \\\"A\\\", \\\"_meta_data\\\": {\\\"metatype\\\": \\\"DataProperty\\\", \\\"desc\\\": \\\"\\\", \\\"category\\\": \\\"General\\\", \\\"default\\\": null}, \\\"debuginfo\\\": null, \\\"_meta_debuginfo\\\": {\\\"metatype\\\": \\\"DebugInfo\\\", \\\"desc\\\": \\\"\\\", \\\"category\\\": \\\"General\\\", \\\"default\\\": {\\\"type\\\": \\\"DebugInfo\\\", \\\"start_line\\\": 0, \\\"end_line\\\": 0, \\\"start_column\\\": 0, \\\"end_column\\\": 0, \\\"filename\\\": null}}, \\\"wcr\\\": null, \\\"_meta_wcr\\\": {\\\"metatype\\\": \\\"LambdaProperty\\\", \\\"desc\\\": \\\"\\\", \\\"category\\\": \\\"General\\\", \\\"default\\\": null}, \\\"wcr_identity\\\": null, \\\"_meta_wcr_identity\\\": {\\\"metatype\\\": \\\"object\\\", \\\"desc\\\": \\\"\\\", \\\"category\\\": \\\"General\\\", \\\"default\\\": null}, \\\"wcr_conflict\\\": true, \\\"_meta_wcr_conflict\\\": {\\\"metatype\\\": \\\"bool\\\", \\\"desc\\\": \\\"\\\", \\\"category\\\": \\\"General\\\", \\\"default\\\": true}, \\\"allow_oob\\\": false, \\\"_meta_allow_oob\\\": {\\\"metatype\\\": \\\"bool\\\", \\\"desc\\\": \\\"Bypass out-of-bounds validation\\\", \\\"category\\\": \\\"General\\\", \\\"default\\\": false}}}}, \\\"src\\\": \\\"0\\\", \\\"dst\\\": \\\"4\\\", \\\"dst_connector\\\": \\\"a\\\", \\\"src_connector\\\": \\\"OUT_1\\\"}, {\\\"type\\\": \\\"MultiConnectorEdge\\\", \\\"attributes\\\": {\\\"data\\\": {\\\"type\\\": \\\"Memlet\\\", \\\"label\\\": \\\"B[j, i]\\\", \\\"attributes\\\": {\\\"veclen\\\": 1, \\\"_meta_veclen\\\": {\\\"metatype\\\": \\\"int\\\", \\\"desc\\\": \\\"Vector length\\\", \\\"category\\\": \\\"General\\\", \\\"default\\\": 0}, \\\"num_accesses\\\": \\\"1\\\", \\\"_meta_num_accesses\\\": {\\\"metatype\\\": \\\"SymbolicProperty\\\", \\\"desc\\\": \\\"\\\", \\\"category\\\": \\\"General\\\", \\\"default\\\": 0}, \\\"subset\\\": {\\\"type\\\": \\\"Range\\\", \\\"ranges\\\": [{\\\"start\\\": \\\"j\\\", \\\"end\\\": \\\"j\\\", \\\"step\\\": \\\"1\\\", \\\"tile\\\": \\\"1\\\"}, {\\\"start\\\": \\\"i\\\", \\\"end\\\": \\\"i\\\", \\\"step\\\": \\\"1\\\", \\\"tile\\\": \\\"1\\\"}]}, \\\"_meta_subset\\\": {\\\"metatype\\\": \\\"SubsetProperty\\\", \\\"desc\\\": \\\"\\\", \\\"category\\\": \\\"General\\\", \\\"default\\\": {\\\"type\\\": \\\"Range\\\", \\\"ranges\\\": []}}, \\\"other_subset\\\": null, \\\"_meta_other_subset\\\": {\\\"metatype\\\": \\\"SubsetProperty\\\", \\\"desc\\\": \\\"\\\", \\\"category\\\": \\\"General\\\", \\\"default\\\": null}, \\\"data\\\": \\\"B\\\", \\\"_meta_data\\\": {\\\"metatype\\\": \\\"DataProperty\\\", \\\"desc\\\": \\\"\\\", \\\"category\\\": \\\"General\\\", \\\"default\\\": null}, \\\"debuginfo\\\": null, \\\"_meta_debuginfo\\\": {\\\"metatype\\\": \\\"DebugInfo\\\", \\\"desc\\\": \\\"\\\", \\\"category\\\": \\\"General\\\", \\\"default\\\": {\\\"type\\\": \\\"DebugInfo\\\", \\\"start_line\\\": 0, \\\"end_line\\\": 0, \\\"start_column\\\": 0, \\\"end_column\\\": 0, \\\"filename\\\": null}}, \\\"wcr\\\": null, \\\"_meta_wcr\\\": {\\\"metatype\\\": \\\"LambdaProperty\\\", \\\"desc\\\": \\\"\\\", \\\"category\\\": \\\"General\\\", \\\"default\\\": null}, \\\"wcr_identity\\\": null, \\\"_meta_wcr_identity\\\": {\\\"metatype\\\": \\\"object\\\", \\\"desc\\\": \\\"\\\", \\\"category\\\": \\\"General\\\", \\\"default\\\": null}, \\\"wcr_conflict\\\": true, \\\"_meta_wcr_conflict\\\": {\\\"metatype\\\": \\\"bool\\\", \\\"desc\\\": \\\"\\\", \\\"category\\\": \\\"General\\\", \\\"default\\\": true}, \\\"allow_oob\\\": false, \\\"_meta_allow_oob\\\": {\\\"metatype\\\": \\\"bool\\\", \\\"desc\\\": \\\"Bypass out-of-bounds validation\\\", \\\"category\\\": \\\"General\\\", \\\"default\\\": false}}}}, \\\"src\\\": \\\"4\\\", \\\"dst\\\": \\\"1\\\", \\\"dst_connector\\\": \\\"IN_1\\\", \\\"src_connector\\\": \\\"b\\\"}], \\\"attributes\\\": {\\\"is_collapsed\\\": false, \\\"_meta_is_collapsed\\\": {\\\"metatype\\\": \\\"bool\\\", \\\"desc\\\": \\\"Show this node/scope/state as collapsed\\\", \\\"category\\\": \\\"General\\\", \\\"default\\\": false}, \\\"nosync\\\": false, \\\"_meta_nosync\\\": {\\\"metatype\\\": \\\"bool\\\", \\\"desc\\\": \\\"Do not synchronize at the end of the state\\\", \\\"category\\\": \\\"General\\\", \\\"default\\\": false}, \\\"instrument\\\": \\\"No_Instrumentation\\\", \\\"_meta_instrument\\\": {\\\"metatype\\\": \\\"InstrumentationType\\\", \\\"desc\\\": \\\"Measure execution statistics with given method\\\", \\\"category\\\": \\\"General\\\", \\\"default\\\": \\\"No_Instrumentation\\\"}}}], \\\"edges\\\": [], \\\"undefined_symbols\\\": [[\\\"M\\\", {\\\"type\\\": \\\"Scalar\\\", \\\"attributes\\\": {\\\"allow_conflicts\\\": false, \\\"_meta_allow_conflicts\\\": {\\\"metatype\\\": \\\"bool\\\", \\\"desc\\\": \\\"\\\", \\\"category\\\": \\\"General\\\", \\\"default\\\": false}, \\\"dtype\\\": \\\"int32\\\", \\\"_meta_dtype\\\": {\\\"metatype\\\": \\\"typeclass\\\", \\\"desc\\\": \\\"\\\", \\\"category\\\": \\\"General\\\", \\\"default\\\": \\\"int32\\\"}, \\\"shape\\\": [\\\"1\\\"], \\\"_meta_shape\\\": {\\\"metatype\\\": \\\"tuple\\\", \\\"desc\\\": \\\"\\\", \\\"category\\\": \\\"General\\\", \\\"default\\\": []}, \\\"transient\\\": false, \\\"_meta_transient\\\": {\\\"metatype\\\": \\\"bool\\\", \\\"desc\\\": \\\"\\\", \\\"category\\\": \\\"General\\\", \\\"default\\\": false}, \\\"storage\\\": \\\"Default\\\", \\\"_meta_storage\\\": {\\\"metatype\\\": \\\"StorageType\\\", \\\"desc\\\": \\\"Storage location\\\", \\\"category\\\": \\\"General\\\", \\\"default\\\": \\\"Default\\\"}, \\\"location\\\": \\\"\\\", \\\"_meta_location\\\": {\\\"metatype\\\": \\\"str\\\", \\\"desc\\\": \\\"Full storage location identifier (e.g., rank, GPU ID)\\\", \\\"category\\\": \\\"General\\\", \\\"default\\\": \\\"\\\"}, \\\"toplevel\\\": false, \\\"_meta_toplevel\\\": {\\\"metatype\\\": \\\"bool\\\", \\\"desc\\\": \\\"Allocate array outside of state\\\", \\\"category\\\": \\\"General\\\", \\\"default\\\": false}, \\\"debuginfo\\\": null, \\\"_meta_debuginfo\\\": {\\\"metatype\\\": \\\"DebugInfo\\\", \\\"desc\\\": \\\"\\\", \\\"category\\\": \\\"General\\\", \\\"default\\\": {\\\"type\\\": \\\"DebugInfo\\\", \\\"start_line\\\": 0, \\\"end_line\\\": 0, \\\"start_column\\\": 0, \\\"end_column\\\": 0, \\\"filename\\\": null}}}}], [\\\"N\\\", {\\\"type\\\": \\\"Scalar\\\", \\\"attributes\\\": {\\\"allow_conflicts\\\": false, \\\"_meta_allow_conflicts\\\": {\\\"metatype\\\": \\\"bool\\\", \\\"desc\\\": \\\"\\\", \\\"category\\\": \\\"General\\\", \\\"default\\\": false}, \\\"dtype\\\": \\\"int32\\\", \\\"_meta_dtype\\\": {\\\"metatype\\\": \\\"typeclass\\\", \\\"desc\\\": \\\"\\\", \\\"category\\\": \\\"General\\\", \\\"default\\\": \\\"int32\\\"}, \\\"shape\\\": [\\\"1\\\"], \\\"_meta_shape\\\": {\\\"metatype\\\": \\\"tuple\\\", \\\"desc\\\": \\\"\\\", \\\"category\\\": \\\"General\\\", \\\"default\\\": []}, \\\"transient\\\": false, \\\"_meta_transient\\\": {\\\"metatype\\\": \\\"bool\\\", \\\"desc\\\": \\\"\\\", \\\"category\\\": \\\"General\\\", \\\"default\\\": false}, \\\"storage\\\": \\\"Default\\\", \\\"_meta_storage\\\": {\\\"metatype\\\": \\\"StorageType\\\", \\\"desc\\\": \\\"Storage location\\\", \\\"category\\\": \\\"General\\\", \\\"default\\\": \\\"Default\\\"}, \\\"location\\\": \\\"\\\", \\\"_meta_location\\\": {\\\"metatype\\\": \\\"str\\\", \\\"desc\\\": \\\"Full storage location identifier (e.g., rank, GPU ID)\\\", \\\"category\\\": \\\"General\\\", \\\"default\\\": \\\"\\\"}, \\\"toplevel\\\": false, \\\"_meta_toplevel\\\": {\\\"metatype\\\": \\\"bool\\\", \\\"desc\\\": \\\"Allocate array outside of state\\\", \\\"category\\\": \\\"General\\\", \\\"default\\\": false}, \\\"debuginfo\\\": null, \\\"_meta_debuginfo\\\": {\\\"metatype\\\": \\\"DebugInfo\\\", \\\"desc\\\": \\\"\\\", \\\"category\\\": \\\"General\\\", \\\"default\\\": {\\\"type\\\": \\\"DebugInfo\\\", \\\"start_line\\\": 0, \\\"end_line\\\": 0, \\\"start_column\\\": 0, \\\"end_column\\\": 0, \\\"filename\\\": null}}}}]], \\\"scalar_parameters\\\": []}\";\n",
       "    var renderer_43843927853275766 = new SDFGRenderer(parse_sdfg(sdfg_43843927853275766),\n",
       "        document.getElementById('contents_43843927853275766'));\n",
       "</script>"
      ],
      "text/plain": [
       "<dace.sdfg.SDFG at 0x7f46ed86ecf8>"
      ]
     },
     "execution_count": 5,
     "metadata": {},
     "output_type": "execute_result"
    }
   ],
   "source": [
    "sdfg = transpose.to_sdfg()\n",
    "sdfg"
   ]
  },
  {
   "cell_type": "markdown",
   "metadata": {},
   "source": [
    "We can now call `transpose` directly, or using the SDFG we created. When calling `transpose`, we need to feed the symbols as well as the arguments (since the arrays are `numpy` rather than symbolic `dace` arrays, see below tutorials). When prompted for transformations, we will now just press the \"Enter\" key to skip them."
   ]
  },
  {
   "cell_type": "code",
   "execution_count": 6,
   "metadata": {},
   "outputs": [
    {
     "name": "stdout",
     "output_type": "stream",
     "text": [
      "0. Transformation FPGATransformSDFG in transpose\n",
      "1. Transformation FPGATransformState in s5_4\n",
      "2. Transformation GPUTransformLocalStorage in mytasklet[i=0:M, j=0:N]\n",
      "3. Transformation GPUTransformMap in mytasklet[i=0:M, j=0:N]\n",
      "4. Transformation GPUTransformSDFG in transpose\n",
      "5. Transformation MapExpansion in mytasklet: ['i', 'j']\n",
      "6. Transformation MapTiling in mytasklet: ['i', 'j']\n",
      "7. Transformation NestSDFG in transpose\n",
      "8. Transformation StripMining in mytasklet: ['i', 'j']\n",
      "Select the pattern to apply (0 - 8 or name$id): \n",
      "You did not select a valid option. Quitting optimization ...\n",
      "-- Found OpenMP_CXX: -fopenmp\n",
      "-- Found OpenMP: TRUE  found components:  CXX\n",
      "-- Configuring done\n",
      "-- Generating done\n",
      "-- Build files have been written to: /path/to/dace/tutorials/.dacecache/transpose/build\n",
      "\n",
      "Scanning dependencies of target transpose\n",
      "[ 25%] Building CXX object CMakeFiles/transpose.dir/path/to/dace/tutorials/.dacecache/transpose/src/cpu/transpose.cpp.o\n",
      "[ 50%] Linking CXX shared library libtranspose.so\n",
      "[ 50%] Built target transpose\n",
      "[100%] Built target dacestub_transpose\n",
      "\n",
      "WARNING: Casting scalar argument \"M\" from int to <class 'numpy.int32'>\n",
      "WARNING: Casting scalar argument \"N\" from int to <class 'numpy.int32'>\n"
     ]
    },
    {
     "data": {
      "text/plain": [
       "0"
      ]
     },
     "execution_count": 6,
     "metadata": {},
     "output_type": "execute_result"
    }
   ],
   "source": [
    "sdfg(A=A, B=B, M=A.shape[0], N=A.shape[1])"
   ]
  },
  {
   "cell_type": "code",
   "execution_count": 7,
   "metadata": {},
   "outputs": [
    {
     "name": "stdout",
     "output_type": "stream",
     "text": [
      "Difference: 0.0\n"
     ]
    }
   ],
   "source": [
    "print('Difference:', np.linalg.norm(expected - B))"
   ]
  },
  {
   "cell_type": "markdown",
   "metadata": {},
   "source": [
    "## Query (using Streams)\n",
    "\n",
    "In this example, we will use the Stream construct and symbolic dace ND arrays to create a simple parallel filter. We first define a symbolic size and a symbolically-sized array:"
   ]
  },
  {
   "cell_type": "code",
   "execution_count": 8,
   "metadata": {},
   "outputs": [],
   "source": [
    "N = dace.symbol('N')\n",
    "N.set(255)\n",
    "\n",
    "storage = dace.ndarray(shape=[N], dtype=dace.int32)\n",
    "# The size of \"output\" will actually be lesser or equal to N, but we need to \n",
    "# statically allocate the memory.\n",
    "output = dace.ndarray(shape=[N], dtype=dace.int32)\n",
    "# The size is a scalar\n",
    "output_size = dace.scalar(dtype=dace.uint32)"
   ]
  },
  {
   "cell_type": "markdown",
   "metadata": {},
   "source": [
    "As with `transpose`, the DaCe program also consists of a tasklet nested in a Map, but also includes a Stream (to which we push outputs as necessary) that is directly connected to the output array, as well as a conflict-resolution output (because all tasklets in the map write to the same address:"
   ]
  },
  {
   "cell_type": "code",
   "execution_count": 9,
   "metadata": {},
   "outputs": [],
   "source": [
    "@dace.program\n",
    "def query(data: dace.int32[N], output: dace.int32[N], outsz: dace.int32[1], \n",
    "          threshold: dace.int32):\n",
    "    # Define a local, unbounded (buffer_size=0) stream\n",
    "    S = dace.define_stream(dace.int32, 0)\n",
    "    \n",
    "    # Filtering tasklet\n",
    "    @dace.map\n",
    "    def filter(i: _[0:N]):\n",
    "        a << data[i]\n",
    "        # Writing to S (no location necessary) a dynamic number of times (-1)\n",
    "        out >> S(-1)\n",
    "        # Writing to outsz dynamically (-1), if there is a conflict, we will sum the results\n",
    "        osz >> outsz(-1, lambda a,b: a+b)   \n",
    "        \n",
    "        if a > threshold:\n",
    "            # Pushing to a stream or writing with a conflict use the assignment operator\n",
    "            out = a\n",
    "            osz = 1\n",
    "            \n",
    "    # Define a memlet from S to the output\n",
    "    S >> output"
   ]
  },
  {
   "cell_type": "markdown",
   "metadata": {},
   "source": [
    "We can compile `query` without defining anything further. However, before we call `query`, we will need to set the symbol sizes."
   ]
  },
  {
   "cell_type": "code",
   "execution_count": 10,
   "metadata": {},
   "outputs": [
    {
     "name": "stdout",
     "output_type": "stream",
     "text": [
      "Applied 4 StateFusion, 1 InlineSDFG.\n",
      "0. Transformation GPUTransformSDFG in query\n",
      "1. Transformation MapTiling in filter: ['i']\n",
      "2. Transformation MapToForLoop in filter: ['i']\n",
      "3. Transformation NestSDFG in query\n",
      "4. Transformation StripMining in filter: ['i']\n",
      "Select the pattern to apply (0 - 4 or name$id): \n",
      "You did not select a valid option. Quitting optimization ...\n",
      "-- Found OpenMP_CXX: -fopenmp\n",
      "-- Found OpenMP: TRUE  found components:  CXX\n",
      "-- Configuring done\n",
      "-- Generating done\n",
      "-- Build files have been written to: /path/to/dace/tutorials/.dacecache/query/build\n",
      "\n",
      "Scanning dependencies of target query\n",
      "[ 25%] Building CXX object CMakeFiles/query.dir/path/to/dace/tutorials/.dacecache/query/src/cpu/query.cpp.o\n",
      "/path/to/dace/tutorials/.dacecache/query/src/cpu/query.cpp: In function ‘void __program_query_internal(int*, int*, int*, int, int)’:\n",
      "/path/to/dace/tutorials/.dacecache/query/src/cpu/query.cpp:18:23: warning: unused variable ‘out’ [-Wunused-variable]\n",
      "                 auto &out = __out;\n",
      "                       ^~~\n",
      "/path/to/dace/tutorials/.dacecache/query/src/cpu/query.cpp:20:23: warning: unused variable ‘osz’ [-Wunused-variable]\n",
      "                 auto &osz = __osz.ref<1>();\n",
      "                       ^~~\n",
      "[ 50%] Linking CXX shared library libquery.so\n",
      "[ 50%] Built target query\n",
      "Scanning dependencies of target dacestub_query\n",
      "[ 75%] Building CXX object CMakeFiles/dacestub_query.dir/tools/dacestub.cpp.o\n",
      "[100%] Linking CXX shared library libdacestub_query.so\n",
      "[100%] Built target dacestub_query\n",
      "\n"
     ]
    }
   ],
   "source": [
    "qfunc = query.compile()"
   ]
  },
  {
   "cell_type": "code",
   "execution_count": 11,
   "metadata": {},
   "outputs": [],
   "source": [
    "thres = 50"
   ]
  },
  {
   "cell_type": "code",
   "execution_count": 12,
   "metadata": {},
   "outputs": [],
   "source": [
    "# Define some random integers and zero outputs\n",
    "import numpy as np\n",
    "storage[:] = np.random.randint(0, 100, size=N.get())\n",
    "output_size[0] = 0\n",
    "output[:] = np.zeros(N.get()).astype(np.int32)\n",
    "\n",
    "# Compute expected output using numpy\n",
    "expected = storage[np.where(storage > thres)]"
   ]
  },
  {
   "cell_type": "markdown",
   "metadata": {},
   "source": [
    "Here we will just use the Python function prototype to call the code, since we do not invoke it through the SDFG:"
   ]
  },
  {
   "cell_type": "code",
   "execution_count": 13,
   "metadata": {},
   "outputs": [
    {
     "name": "stdout",
     "output_type": "stream",
     "text": [
      "WARNING: Casting scalar argument \"N\" from symbol to <class 'numpy.int32'>\n",
      "WARNING: Casting scalar argument \"threshold\" from int to <class 'numpy.int32'>\n"
     ]
    },
    {
     "data": {
      "text/plain": [
       "array([140], dtype=uint32)"
      ]
     },
     "execution_count": 13,
     "metadata": {},
     "output_type": "execute_result"
    }
   ],
   "source": [
    "qfunc(data=storage, output=output, outsz=output_size, threshold=thres, N=N)\n",
    "output_size"
   ]
  },
  {
   "cell_type": "code",
   "execution_count": 14,
   "metadata": {},
   "outputs": [
    {
     "name": "stdout",
     "output_type": "stream",
     "text": [
      "Difference: 0.0\n"
     ]
    }
   ],
   "source": [
    "filtered_output = output[:output_size[0]]\n",
    "# Sorting outputs to avoid concurrency-based reordering\n",
    "print('Difference:', np.linalg.norm(np.sort(expected) - np.sort(filtered_output)))"
   ]
  }
 ],
 "metadata": {
  "kernelspec": {
   "display_name": "Python 3",
   "language": "python",
   "name": "python3"
  },
  "language_info": {
   "codemirror_mode": {
    "name": "ipython",
    "version": 3
   },
   "file_extension": ".py",
   "mimetype": "text/x-python",
   "name": "python",
   "nbconvert_exporter": "python",
   "pygments_lexer": "ipython3",
   "version": "3.6.6"
  }
 },
 "nbformat": 4,
 "nbformat_minor": 2
}
